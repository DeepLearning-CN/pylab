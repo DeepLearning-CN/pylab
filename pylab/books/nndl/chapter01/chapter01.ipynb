{
 "cells": [
  {
   "cell_type": "code",
   "execution_count": 37,
   "metadata": {},
   "outputs": [
    {
     "name": "stdout",
     "output_type": "stream",
     "text": [
      "此时感知器权重为[0.1 0.2]，偏置项为-0.2\n",
      "1 and 1 = 1\n",
      "1 and 0 = 0\n",
      "0 and 1 = 0\n",
      "0 and 0 = 0\n",
      "此时感知器权重为[0.2 0.2]，偏置项为-0.1\n",
      "1 or 1 = 1\n",
      "1 or 0 = 1\n",
      "0 or 1 = 1\n",
      "0 or 0 = 0\n",
      "此时感知器权重为[-0.1 -0.2]，偏置项为0.20000000000000004\n",
      "1 nand 1 = 0\n",
      "1 nand 0 = 1\n",
      "0 nand 1 = 1\n",
      "0 nand 0 = 1\n"
     ]
    }
   ],
   "source": [
    "import numpy as np\n",
    "\n",
    "\n",
    "class Perceptron:\n",
    "    \"\"\"\n",
    "    代码实现 Frank Rosenblatt 提出的感知器的与非门，加深对感知器的理解\n",
    "    blog: https://www.howie6879.cn/post/33/\n",
    "    \"\"\"\n",
    "\n",
    "    def __init__(self, act_func, input_nums=2):\n",
    "        \"\"\"\n",
    "        实例化一些基本参数\n",
    "        :param act_func: 激活函数\n",
    "        \"\"\"\n",
    "        # 激活函数\n",
    "        self.act_func = act_func\n",
    "        # 权重 已经确定只会有两个二进制输入\n",
    "        self.w = np.zeros(input_nums)\n",
    "        # 偏置项\n",
    "        self.b = 0.0\n",
    "\n",
    "    def fit(self, input_vectors, labels, learn_nums=10, rate=0.1):\n",
    "        \"\"\"\n",
    "        训练出合适的 w 和 b\n",
    "        :param input_vectors: 样本训练数据集\n",
    "        :param labels: 标记值\n",
    "        :param learn_nums: 学习多少次\n",
    "        :param rate: 学习率\n",
    "        \"\"\"\n",
    "        for i in range(learn_nums):\n",
    "            for index, input_vector in enumerate(input_vectors):\n",
    "                label = labels[index]\n",
    "                output = self.predict(input_vector)\n",
    "                delta = label - output\n",
    "                self.w += input_vector * rate * delta\n",
    "                self.b += rate * delta\n",
    "        print(\"此时感知器权重为{0}，偏置项为{1}\".format(self.w, self.b))\n",
    "        return self\n",
    "\n",
    "    def predict(self, input_vector):\n",
    "        if isinstance(input_vector, list):\n",
    "            input_vector = np.array(input_vector)\n",
    "        return self.act_func(sum(self.w * input_vector) + self.b)\n",
    "\n",
    "\n",
    "def f(z):\n",
    "    \"\"\"\n",
    "    激活函数\n",
    "    :param z: (w1*x1+w2*x2+...+wj*xj) + b\n",
    "    :return: 1 or 0\n",
    "    \"\"\"\n",
    "    return 1 if z > 0 else 0\n",
    "\n",
    "def get_nand_gate_training_data():\n",
    "    '''\n",
    "    NAND 训练数据集\n",
    "    '''\n",
    "    input_vectors = np.array([[1, 1], [1, 0], [0, 1], [0, 0]])\n",
    "    labels = np.array([0, 1, 1, 1])\n",
    "    return input_vectors, labels\n",
    "\n",
    "def get_and_gate_training_data():\n",
    "    '''\n",
    "    AND 训练数据集\n",
    "    '''\n",
    "    input_vectors = np.array([[1, 1], [1, 0], [0, 1], [0, 0]])\n",
    "    labels = np.array([1, 0, 0, 0])\n",
    "    return input_vectors, labels\n",
    "\n",
    "\n",
    "def get_or_gate_training_data():\n",
    "    '''\n",
    "    OR 训练数据集\n",
    "    '''\n",
    "    input_vectors = np.array([[1, 1], [1, 0], [0, 1], [0, 0]])\n",
    "    labels = np.array([1, 1, 1, 0])\n",
    "    return input_vectors, labels\n",
    "\n",
    "\n",
    "if __name__ == '__main__':\n",
    "    \"\"\"\n",
    "    输出如下：\n",
    "        此时感知器权重为[ 0.1  0.2]，偏置项为-0.2 与门\n",
    "        1 and 1 = 1\n",
    "        1 and 0 = 0\n",
    "        0 and 1 = 0\n",
    "        0 and 0 = 0\n",
    "        此时感知器权重为[ 0.2  0.2]，偏置项为-0.1 或门\n",
    "        1 or 1 = 1\n",
    "        1 or 0 = 1\n",
    "        0 or 1 = 1\n",
    "        0 or 0 = 0\n",
    "        此时感知器权重为[-0.1 -0.2]，偏置项为0.20000000000000004 与非门\n",
    "        1 nand 1 = 0\n",
    "        1 nand 0 = 1\n",
    "        0 nand 1 = 1\n",
    "        0 nand 0 = 1\n",
    "    \"\"\"\n",
    "    # 获取样本数据\n",
    "    and_input_vectors, and_labels = get_and_gate_training_data()\n",
    "    or_input_vectors, or_labels = get_or_gate_training_data()\n",
    "    nand_input_vectors, nand_labels = get_nand_gate_training_data()\n",
    "    # 实例化感知器模型\n",
    "    p = Perceptron(f)\n",
    "    # 开始学习 AND\n",
    "    p_and = p.fit(and_input_vectors, and_labels)\n",
    "    # 开始预测 AND\n",
    "    print('1 and 1 = %d' % p_and.predict([1, 1]))\n",
    "    print('1 and 0 = %d' % p_and.predict([1, 0]))\n",
    "    print('0 and 1 = %d' % p_and.predict([0, 1]))\n",
    "    print('0 and 0 = %d' % p_and.predict([0, 0]))\n",
    "\n",
    "    # 开始学习 OR\n",
    "    p_or = p.fit(or_input_vectors, or_labels)\n",
    "    # 开始预测 OR\n",
    "    print('1 or 1 = %d' % p_or.predict([1, 1]))\n",
    "    print('1 or 0 = %d' % p_or.predict([1, 0]))\n",
    "    print('0 or 1 = %d' % p_or.predict([0, 1]))\n",
    "    print('0 or 0 = %d' % p_or.predict([0, 0]))\n",
    "\n",
    "    # 开始学习 NAND\n",
    "    p_or = p.fit(nand_input_vectors, nand_labels)\n",
    "    # 开始预测 NAND\n",
    "    print('1 nand 1 = %d' % p_or.predict([1, 1]))\n",
    "    print('1 nand 0 = %d' % p_or.predict([1, 0]))\n",
    "    print('0 nand 1 = %d' % p_or.predict([0, 1]))\n",
    "    print('0 nand 0 = %d' % p_or.predict([0, 0]))"
   ]
  },
  {
   "cell_type": "code",
   "execution_count": 38,
   "metadata": {},
   "outputs": [
    {
     "name": "stdout",
     "output_type": "stream",
     "text": [
      "Extracting ../../datasets/MNIST_data/train-images-idx3-ubyte.gz\n",
      "Extracting ../../datasets/MNIST_data/train-labels-idx1-ubyte.gz\n",
      "Extracting ../../datasets/MNIST_data/t10k-images-idx3-ubyte.gz\n",
      "Extracting ../../datasets/MNIST_data/t10k-labels-idx1-ubyte.gz\n"
     ]
    }
   ],
   "source": [
    "from matplotlib import pyplot as plt\n",
    "from tensorflow.examples.tutorials.mnist.input_data import read_data_sets\n",
    "\n",
    "mnist = read_data_sets(\"../../datasets/MNIST_data/\", one_hot=True)"
   ]
  },
  {
   "cell_type": "code",
   "execution_count": 39,
   "metadata": {},
   "outputs": [
    {
     "name": "stdout",
     "output_type": "stream",
     "text": [
      "Training data size: 55000\n",
      "Validating data size: 5000\n",
      "Testing data size: 10000\n",
      "784\n"
     ]
    }
   ],
   "source": [
    "print(\"Training data size: %s\" % mnist.train.num_examples)\n",
    "print(\"Validating data size: %s\" % mnist.validation.num_examples)\n",
    "print(\"Testing data size: %s\" % mnist.test.num_examples)\n",
    "# 每张图片是长度为784的一维数组\n",
    "print(len(mnist.train.images[0]))"
   ]
  },
  {
   "cell_type": "code",
   "execution_count": 40,
   "metadata": {},
   "outputs": [
    {
     "name": "stdout",
     "output_type": "stream",
     "text": [
      "样本真实数字为：3\n"
     ]
    },
    {
     "data": {
      "image/png": "[encoded data removed]",
      "text/plain": [
       "<Figure size 432x288 with 1 Axes>"
      ]
     },
     "metadata": {
      "needs_background": "light"
     },
     "output_type": "display_data"
    }
   ],
   "source": [
    "def display_digit(image):\n",
    "    image = image.reshape([28,28])\n",
    "    plt.imshow(image, cmap=plt.get_cmap('gray_r'))\n",
    "    plt.show()\n",
    "\n",
    "print(\"样本真实数字为：%s\" % list(mnist.train.labels[1]).index(1))\n",
    "# 显示图像\n",
    "display_digit(mnist.train.images[1])"
   ]
  },
  {
   "cell_type": "code",
   "execution_count": 53,
   "metadata": {},
   "outputs": [],
   "source": [
    "def load_data():\n",
    "    training_data = (mnist.train.images, np.argmax(mnist.train.labels,axis=1))\n",
    "    validation_data = (mnist.validation.images, np.argmax(mnist.validation.labels,axis=1))\n",
    "    test_data = (mnist.test.images, np.argmax(mnist.test.labels,axis=1))\n",
    "    return (training_data, validation_data, test_data)"
   ]
  },
  {
   "cell_type": "code",
   "execution_count": 54,
   "metadata": {},
   "outputs": [],
   "source": [
    "a,b,c = load_data()"
   ]
  },
  {
   "cell_type": "code",
   "execution_count": null,
   "metadata": {},
   "outputs": [],
   "source": []
  },
  {
   "cell_type": "code",
   "execution_count": 55,
   "metadata": {},
   "outputs": [],
   "source": [
    "def load_data_wrapper():\n",
    "    \"\"\"Return a tuple containing ``(training_data, validation_data,\n",
    "    test_data)``. Based on ``load_data``, but the format is more\n",
    "    convenient for use in our implementation of neural networks.\n",
    "    In particular, ``training_data`` is a list containing 50,000\n",
    "    2-tuples ``(x, y)``.  ``x`` is a 784-dimensional numpy.ndarray\n",
    "    containing the input image.  ``y`` is a 10-dimensional\n",
    "    numpy.ndarray representing the unit vector corresponding to the\n",
    "    correct digit for ``x``.\n",
    "    ``validation_data`` and ``test_data`` are lists containing 10,000\n",
    "    2-tuples ``(x, y)``.  In each case, ``x`` is a 784-dimensional\n",
    "    numpy.ndarry containing the input image, and ``y`` is the\n",
    "    corresponding classification, i.e., the digit values (integers)\n",
    "    corresponding to ``x``.\n",
    "    Obviously, this means we're using slightly different formats for\n",
    "    the training data and the validation / test data.  These formats\n",
    "    turn out to be the most convenient for use in our neural network\n",
    "    code.\"\"\"\n",
    "    tr_d, va_d, te_d = load_data()\n",
    "    # 每个元素转变成 784 * 1\n",
    "    training_inputs = [np.reshape(x, (784, 1)) for x in tr_d[0]]\n",
    "    training_results = [vectorized_result(y) for y in tr_d[1]]\n",
    "    training_data = zip(training_inputs, training_results)\n",
    "    validation_inputs = [np.reshape(x, (784, 1)) for x in va_d[0]]\n",
    "    validation_data = zip(validation_inputs, va_d[1])\n",
    "    test_inputs = [np.reshape(x, (784, 1)) for x in te_d[0]]\n",
    "    test_data = zip(test_inputs, te_d[1])\n",
    "    return (list(training_data), list(validation_data), list(test_data))\n",
    "\n",
    "def vectorized_result(j):\n",
    "    \"\"\"Return a 10-dimensional unit vector with a 1.0 in the jth\n",
    "    position and zeroes elsewhere.  This is used to convert a digit\n",
    "    (0...9) into a corresponding desired output from the neural\n",
    "    network.\"\"\"\n",
    "    e = np.zeros((10, 1))\n",
    "    e[j] = 1.0\n",
    "    return e"
   ]
  },
  {
   "cell_type": "code",
   "execution_count": 56,
   "metadata": {},
   "outputs": [],
   "source": [
    "training_data, validation_data, test_data = load_data_wrapper()"
   ]
  },
  {
   "cell_type": "code",
   "execution_count": 57,
   "metadata": {},
   "outputs": [
    {
     "data": {
      "text/plain": [
       "(55000, 5000, 10000)"
      ]
     },
     "execution_count": 57,
     "metadata": {},
     "output_type": "execute_result"
    }
   ],
   "source": [
    "len(training_data), len(validation_data), len(test_data)"
   ]
  },
  {
   "cell_type": "code",
   "execution_count": 59,
   "metadata": {},
   "outputs": [],
   "source": [
    "import network\n",
    "\n",
    "# 输入层 784\n",
    "# 隐藏层 30\n",
    "# 输出层 10\n",
    "sizes = [784, 30, 10]\n",
    "net = network.Network(sizes = sizes)"
   ]
  },
  {
   "cell_type": "code",
   "execution_count": 58,
   "metadata": {},
   "outputs": [
    {
     "name": "stdout",
     "output_type": "stream",
     "text": [
      "Epoch 0: 9095 / 10000\n",
      "Epoch 1: 9256 / 10000\n",
      "Epoch 2: 9285 / 10000\n",
      "Epoch 3: 9360 / 10000\n",
      "Epoch 4: 9376 / 10000\n",
      "Epoch 5: 9427 / 10000\n",
      "Epoch 6: 9360 / 10000\n",
      "Epoch 7: 9417 / 10000\n",
      "Epoch 8: 9458 / 10000\n",
      "Epoch 9: 9453 / 10000\n",
      "Epoch 10: 9474 / 10000\n",
      "Epoch 11: 9419 / 10000\n",
      "Epoch 12: 9461 / 10000\n",
      "Epoch 13: 9480 / 10000\n",
      "Epoch 14: 9456 / 10000\n",
      "Epoch 15: 9518 / 10000\n",
      "Epoch 16: 9470 / 10000\n",
      "Epoch 17: 9497 / 10000\n",
      "Epoch 18: 9459 / 10000\n",
      "Epoch 19: 9483 / 10000\n",
      "Epoch 20: 9478 / 10000\n",
      "Epoch 21: 9463 / 10000\n",
      "Epoch 22: 9497 / 10000\n",
      "Epoch 23: 9484 / 10000\n",
      "Epoch 24: 9492 / 10000\n",
      "Epoch 25: 9469 / 10000\n",
      "Epoch 26: 9506 / 10000\n",
      "Epoch 27: 9502 / 10000\n",
      "Epoch 28: 9516 / 10000\n",
      "Epoch 29: 9478 / 10000\n"
     ]
    }
   ],
   "source": [
    "# 随机梯度下降开始训练\n",
    "net.SGD(\n",
    "    training_data = training_data, \n",
    "    epochs = 30, \n",
    "    mini_batch_size = 10, \n",
    "    eta = 3.0, \n",
    "    test_data = test_data\n",
    ")"
   ]
  },
  {
   "cell_type": "code",
   "execution_count": 76,
   "metadata": {},
   "outputs": [
    {
     "data": {
      "text/plain": [
       "[(30, 1), (10, 1)]"
      ]
     },
     "execution_count": 76,
     "metadata": {},
     "output_type": "execute_result"
    }
   ],
   "source": []
  },
  {
   "cell_type": "code",
   "execution_count": 62,
   "metadata": {},
   "outputs": [
    {
     "data": {
      "text/plain": [
       "[30, 10]"
      ]
     },
     "execution_count": 62,
     "metadata": {},
     "output_type": "execute_result"
    }
   ],
   "source": [
    "sizes[1:]"
   ]
  },
  {
   "cell_type": "code",
   "execution_count": null,
   "metadata": {},
   "outputs": [],
   "source": []
  },
  {
   "cell_type": "code",
   "execution_count": 67,
   "metadata": {},
   "outputs": [
    {
     "name": "stdout",
     "output_type": "stream",
     "text": [
      "784 30\n",
      "30 10\n"
     ]
    }
   ],
   "source": [
    "for x, y in zip(sizes[:-1], sizes[1:]):\n",
    "    print(x,y)"
   ]
  },
  {
   "cell_type": "code",
   "execution_count": 68,
   "metadata": {},
   "outputs": [
    {
     "data": {
      "text/plain": [
       "[784, 30]"
      ]
     },
     "execution_count": 68,
     "metadata": {},
     "output_type": "execute_result"
    }
   ],
   "source": [
    "sizes[:-1]"
   ]
  },
  {
   "cell_type": "code",
   "execution_count": 70,
   "metadata": {},
   "outputs": [
    {
     "name": "stdout",
     "output_type": "stream",
     "text": [
      "(784, 30)\n",
      "(30, 10)\n"
     ]
    }
   ],
   "source": [
    "for i in zip(sizes[:-1], sizes[1:]):\n",
    "    print(i)"
   ]
  },
  {
   "cell_type": "code",
   "execution_count": 79,
   "metadata": {},
   "outputs": [
    {
     "data": {
      "text/plain": [
       "array([ 0.25667548, -0.29829349, -0.262266  ,  0.35565521,  1.03144741,\n",
       "        0.63067711,  0.07978447, -0.56181495, -0.30206575,  0.01192992,\n",
       "       -1.30813965,  0.49001527, -1.12133488, -0.94063309, -0.31619972,\n",
       "        0.83863362, -0.23142991, -0.65693285,  0.84201269,  1.0497373 ,\n",
       "        0.25007258,  0.2987249 ,  1.40500392, -2.47943017, -1.05933841,\n",
       "        0.43264895,  0.70571854,  1.02192206,  1.06170174,  0.45355222])"
      ]
     },
     "execution_count": 79,
     "metadata": {},
     "output_type": "execute_result"
    }
   ],
   "source": [
    "np.random.randn(784 ,30)[0]"
   ]
  },
  {
   "cell_type": "code",
   "execution_count": null,
   "metadata": {},
   "outputs": [],
   "source": []
  }
 ],
 "metadata": {
  "kernelspec": {
   "display_name": "Python 3",
   "language": "python",
   "name": "python3"
  },
  "language_info": {
   "codemirror_mode": {
    "name": "ipython",
    "version": 3
   },
   "file_extension": ".py",
   "mimetype": "text/x-python",
   "name": "python",
   "nbconvert_exporter": "python",
   "pygments_lexer": "ipython3",
   "version": "3.6.7"
  }
 },
 "nbformat": 4,
 "nbformat_minor": 2
}
