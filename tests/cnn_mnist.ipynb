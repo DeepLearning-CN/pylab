{
 "cells": [
  {
   "cell_type": "code",
   "execution_count": 2,
   "metadata": {},
   "outputs": [],
   "source": [
    "# TensorFlow深度学习 第四章测试代码"
   ]
  },
  {
   "cell_type": "code",
   "execution_count": 3,
   "metadata": {},
   "outputs": [],
   "source": [
    "import numpy as np\n",
    "import tensorflow as tf"
   ]
  },
  {
   "cell_type": "code",
   "execution_count": 4,
   "metadata": {},
   "outputs": [],
   "source": [
    "# 训练阶段样本大小\n",
    "batch_size = 128\n",
    "# 测试阶段样本大小\n",
    "test_size = 256\n",
    "# 图片大小\n",
    "img_size = 28\n",
    "# 类别\n",
    "num_classes = 10"
   ]
  },
  {
   "cell_type": "code",
   "execution_count": null,
   "metadata": {},
   "outputs": [],
   "source": [
    "X = tf.placeholder(\"float\", [None, img_size, img_size, 1])"
   ]
  },
  {
   "cell_type": "code",
   "execution_count": 5,
   "metadata": {},
   "outputs": [],
   "source": [
    "Y = tf.placeholder(\"float\", [None, num_classes])"
   ]
  },
  {
   "cell_type": "code",
   "execution_count": 6,
   "metadata": {},
   "outputs": [
    {
     "name": "stdout",
     "output_type": "stream",
     "text": [
      "WARNING:tensorflow:From <ipython-input-6-87fa4e9ae5df>:3: read_data_sets (from tensorflow.contrib.learn.python.learn.datasets.mnist) is deprecated and will be removed in a future version.\n",
      "Instructions for updating:\n",
      "Please use alternatives such as official/mnist/dataset.py from tensorflow/models.\n",
      "WARNING:tensorflow:From /Users/a2017148/.local/share/virtualenvs/pylab--mHOjq_e/lib/python3.6/site-packages/tensorflow/contrib/learn/python/learn/datasets/mnist.py:260: maybe_download (from tensorflow.contrib.learn.python.learn.datasets.base) is deprecated and will be removed in a future version.\n",
      "Instructions for updating:\n",
      "Please write your own downloading logic.\n",
      "WARNING:tensorflow:From /Users/a2017148/.local/share/virtualenvs/pylab--mHOjq_e/lib/python3.6/site-packages/tensorflow/contrib/learn/python/learn/datasets/mnist.py:262: extract_images (from tensorflow.contrib.learn.python.learn.datasets.mnist) is deprecated and will be removed in a future version.\n",
      "Instructions for updating:\n",
      "Please use tf.data to implement this functionality.\n",
      "Extracting ../pylab/datasets/MNIST_data/train-images-idx3-ubyte.gz\n",
      "WARNING:tensorflow:From /Users/a2017148/.local/share/virtualenvs/pylab--mHOjq_e/lib/python3.6/site-packages/tensorflow/contrib/learn/python/learn/datasets/mnist.py:267: extract_labels (from tensorflow.contrib.learn.python.learn.datasets.mnist) is deprecated and will be removed in a future version.\n",
      "Instructions for updating:\n",
      "Please use tf.data to implement this functionality.\n",
      "Extracting ../pylab/datasets/MNIST_data/train-labels-idx1-ubyte.gz\n",
      "WARNING:tensorflow:From /Users/a2017148/.local/share/virtualenvs/pylab--mHOjq_e/lib/python3.6/site-packages/tensorflow/contrib/learn/python/learn/datasets/mnist.py:110: dense_to_one_hot (from tensorflow.contrib.learn.python.learn.datasets.mnist) is deprecated and will be removed in a future version.\n",
      "Instructions for updating:\n",
      "Please use tf.one_hot on tensors.\n",
      "Extracting ../pylab/datasets/MNIST_data/t10k-images-idx3-ubyte.gz\n",
      "Extracting ../pylab/datasets/MNIST_data/t10k-labels-idx1-ubyte.gz\n",
      "WARNING:tensorflow:From /Users/a2017148/.local/share/virtualenvs/pylab--mHOjq_e/lib/python3.6/site-packages/tensorflow/contrib/learn/python/learn/datasets/mnist.py:290: DataSet.__init__ (from tensorflow.contrib.learn.python.learn.datasets.mnist) is deprecated and will be removed in a future version.\n",
      "Instructions for updating:\n",
      "Please use alternatives such as official/mnist/dataset.py from tensorflow/models.\n"
     ]
    }
   ],
   "source": [
    "from tensorflow.examples.tutorials.mnist import input_data\n",
    "\n",
    "mnist = input_data.read_data_sets(\"../pylab/datasets/MNIST_data\", one_hot=True)\n",
    "\n",
    "trX, trY, teX, teY = mnist.train.images,\\\n",
    "                     mnist.train.labels, \\\n",
    "                     mnist.test.images, \\\n",
    "                     mnist.test.labels"
   ]
  },
  {
   "cell_type": "code",
   "execution_count": 7,
   "metadata": {},
   "outputs": [
    {
     "data": {
      "text/plain": [
       "(55000, 10000)"
      ]
     },
     "execution_count": 7,
     "metadata": {},
     "output_type": "execute_result"
    }
   ],
   "source": [
    "len(trX), len(teX)"
   ]
  },
  {
   "cell_type": "code",
   "execution_count": 8,
   "metadata": {},
   "outputs": [],
   "source": [
    "# trX和trY图像集必须根据输入形状进行变形\n",
    "\n",
    "trX = trX.reshape(-1, img_size, img_size, 1)  # 28x28x1 input img\n",
    "teX = teX.reshape(-1, img_size, img_size, 1)  # 28x28x1 input img"
   ]
  },
  {
   "cell_type": "code",
   "execution_count": 12,
   "metadata": {},
   "outputs": [
    {
     "data": {
      "text/plain": [
       "28"
      ]
     },
     "execution_count": 12,
     "metadata": {},
     "output_type": "execute_result"
    }
   ],
   "source": [
    "len(trX[0])"
   ]
  },
  {
   "cell_type": "code",
   "execution_count": 13,
   "metadata": {},
   "outputs": [],
   "source": [
    "def init_weights(shape):\n",
    "    return tf.Variable(tf.random_normal(shape, stddev=0.01))\n",
    "\n",
    "\n",
    "def model(X, w, w2, w3, w4, w_o, p_keep_conv, p_keep_hidden):\n",
    "\n",
    "    conv1 = tf.nn.conv2d(X, w,\\\n",
    "                         strides=[1, 1, 1, 1],\\\n",
    "                         padding='SAME')\n",
    "\n",
    "    conv1_a = tf.nn.relu(conv1)\n",
    "    conv1 = tf.nn.max_pool(conv1_a, ksize=[1, 2, 2, 1]\\\n",
    "                        ,strides=[1, 2, 2, 1],\\\n",
    "                        padding='SAME')\n",
    "    conv1 = tf.nn.dropout(conv1, p_keep_conv)\n",
    "\n",
    "    conv2 = tf.nn.conv2d(conv1, w2,\\\n",
    "                         strides=[1, 1, 1, 1],\\\n",
    "                         padding='SAME')\n",
    "    conv2_a = tf.nn.relu(conv2)\n",
    "    conv2 = tf.nn.max_pool(conv2_a, ksize=[1, 2, 2, 1],\\\n",
    "                        strides=[1, 2, 2, 1],\\\n",
    "                        padding='SAME')\n",
    "    conv2 = tf.nn.dropout(conv2, p_keep_conv)\n",
    "\n",
    "    conv3=tf.nn.conv2d(conv2, w3,\\\n",
    "                       strides=[1, 1, 1, 1]\\\n",
    "                       ,padding='SAME')\n",
    "\n",
    "    conv3 = tf.nn.relu(conv3)\n",
    "\n",
    "\n",
    "    FC_layer = tf.nn.max_pool(conv3, ksize=[1, 2, 2, 1],\\\n",
    "                        strides=[1, 2, 2, 1],\\\n",
    "                        padding='SAME')\n",
    "    \n",
    "    FC_layer = tf.reshape(FC_layer, [-1, w4.get_shape().as_list()[0]])    \n",
    "    FC_layer = tf.nn.dropout(FC_layer, p_keep_conv)\n",
    "\n",
    "\n",
    "    output_layer = tf.nn.relu(tf.matmul(FC_layer, w4))\n",
    "    output_layer = tf.nn.dropout(output_layer, p_keep_hidden)\n",
    "\n",
    "    result = tf.matmul(output_layer, w_o)\n",
    "    return result"
   ]
  },
  {
   "cell_type": "code",
   "execution_count": 14,
   "metadata": {},
   "outputs": [],
   "source": [
    "X = tf.placeholder(\"float\", [None, img_size, img_size, 1])\n",
    "Y = tf.placeholder(\"float\", [None, num_classes])\n",
    "\n",
    "w = init_weights([3, 3, 1, 32])       # 3x3x1 conv, 32 outputs\n",
    "w2 = init_weights([3, 3, 32, 64])     # 3x3x32 conv, 64 outputs\n",
    "w3 = init_weights([3, 3, 64, 128])    # 3x3x32 conv, 128 outputs\n",
    "w4 = init_weights([128 * 4 * 4, 625]) # FC 128 * 4 * 4 inputs, 625 outputs\n",
    "w_o = init_weights([625, num_classes])         # FC 625 inputs, 10 outputs (labels)"
   ]
  },
  {
   "cell_type": "code",
   "execution_count": 16,
   "metadata": {},
   "outputs": [],
   "source": [
    "p_keep_conv = tf.placeholder(\"float\")\n",
    "p_keep_hidden = tf.placeholder(\"float\")\n",
    "py_x = model(X, w, w2, w3, w4, w_o, p_keep_conv, p_keep_hidden)\n",
    "\n",
    "Y_ = tf.nn.softmax_cross_entropy_with_logits_v2(logits=py_x, labels=Y)\n",
    "cost = tf.reduce_mean(Y_)\n",
    "optimizer  = tf.train.\\\n",
    "           RMSPropOptimizer(0.001, 0.9).minimize(cost)\n",
    "predict_op = tf.argmax(py_x, 1)"
   ]
  },
  {
   "cell_type": "code",
   "execution_count": null,
   "metadata": {},
   "outputs": [
    {
     "name": "stdout",
     "output_type": "stream",
     "text": [
      "0 0.94140625\n",
      "1 0.984375\n",
      "2 0.9765625\n",
      "3 0.98828125\n",
      "4 0.9921875\n",
      "5 0.98828125\n",
      "6 1.0\n",
      "7 0.984375\n",
      "8 0.9921875\n",
      "9 0.99609375\n",
      "10 1.0\n"
     ]
    }
   ],
   "source": [
    "with tf.Session() as sess:\n",
    "    #tf.initialize_all_variables().run()\n",
    "    tf.global_variables_initializer().run()\n",
    "    for i in range(10):\n",
    "        training_batch = \\\n",
    "                       zip(range(0, len(trX), \\\n",
    "                                 batch_size),\n",
    "                             range(batch_size, \\\n",
    "                                   len(trX)+1, \\\n",
    "                                   batch_size))\n",
    "        for start, end in training_batch:\n",
    "            sess.run(optimizer, feed_dict={X: trX[start:end],\\\n",
    "                                          Y: trY[start:end],\\\n",
    "                                          p_keep_conv: 0.8,\\\n",
    "                                          p_keep_hidden: 0.5})\n",
    "\n",
    "        test_indices = np.arange(len(teX))# Get A Test Batch\n",
    "        np.random.shuffle(test_indices)\n",
    "        test_indices = test_indices[0:test_size]\n",
    "\n",
    "        print(i, np.mean(np.argmax(teY[test_indices], axis=1) ==\\\n",
    "                         sess.run\\\n",
    "                         (predict_op,\\\n",
    "                          feed_dict={X: teX[test_indices],\\\n",
    "                                     Y: teY[test_indices], \\\n",
    "                                     p_keep_conv: 1.0,\\\n",
    "                                     p_keep_hidden: 1.0})))"
   ]
  },
  {
   "cell_type": "code",
   "execution_count": null,
   "metadata": {},
   "outputs": [],
   "source": []
  }
 ],
 "metadata": {
  "kernelspec": {
   "display_name": "Python 3",
   "language": "python",
   "name": "python3"
  },
  "language_info": {
   "codemirror_mode": {
    "name": "ipython",
    "version": 3
   },
   "file_extension": ".py",
   "mimetype": "text/x-python",
   "name": "python",
   "nbconvert_exporter": "python",
   "pygments_lexer": "ipython3",
   "version": "3.6.7"
  }
 },
 "nbformat": 4,
 "nbformat_minor": 2
}
